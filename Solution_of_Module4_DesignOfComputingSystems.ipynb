{
  "nbformat": 4,
  "nbformat_minor": 0,
  "metadata": {
    "colab": {
      "name": "Solution of Module4-DesignOfComputingSystems.ipynb",
      "provenance": [],
      "collapsed_sections": []
    },
    "kernelspec": {
      "name": "python3",
      "display_name": "Python 3"
    }
  },
  "cells": [
    {
      "cell_type": "code",
      "metadata": {
        "id": "Gc6k_JZ8d-ET",
        "colab_type": "code",
        "colab": {}
      },
      "source": [
        "import math\n",
        "import numpy as np"
      ],
      "execution_count": null,
      "outputs": []
    },
    {
      "cell_type": "code",
      "metadata": {
        "id": "CqrfdyBWec6A",
        "colab_type": "code",
        "colab": {}
      },
      "source": [
        "class Component:\n",
        "  def __init__(self, type, size, cost, power, perf):\n",
        "    self.type = type\n",
        "    self.size = size       ##in mm^2\n",
        "    self.cost = cost       ##in $$\n",
        "    self.power = power     ##in Watts\n",
        "    self.perf = perf       ##in number of operations per nanosecond\n",
        "\n",
        "\n",
        "class Battery:\n",
        "   def __init__(self, type, size, capacity, cost):\n",
        "    self.type = type\n",
        "    self.size = size\n",
        "    self.capacity = capacity ##in Watt-hour\n",
        "    self.cost = cost ##in $$\n",
        "    "
      ],
      "execution_count": null,
      "outputs": []
    },
    {
      "cell_type": "markdown",
      "metadata": {
        "id": "UhJcrfRgjYWf",
        "colab_type": "text"
      },
      "source": [
        "Given the list of components for a given system, calculate power, performance, size and cost of the system"
      ]
    },
    {
      "cell_type": "code",
      "metadata": {
        "id": "PSwZfzKejidB",
        "colab_type": "code",
        "colab": {}
      },
      "source": [
        "#Input would be the name of the metric and a list containing all the components of the system\n",
        "def get_system_metrics(metric, components):\n",
        "  \n",
        "  total_metric = 0\n",
        "  curr_perf = 10000000000\n",
        "  \n",
        "  for component in components:\n",
        "    if metric is 'size':\n",
        "      total_metric += component.size\n",
        "    elif metric is 'cost':\n",
        "      total_metric += component.cost\n",
        "    elif metric is 'power':\n",
        "      total_metric += component.power\n",
        "    elif metric is 'perf':\n",
        "      if component.perf < curr_perf:\n",
        "        curr_perf = component.perf\n",
        "    else:\n",
        "      print(\"Metric doesn't exist!\")\n",
        "\n",
        "  if metric is 'perf':\n",
        "    return curr_perf\n",
        "\n",
        "  return total_metric"
      ],
      "execution_count": null,
      "outputs": []
    },
    {
      "cell_type": "code",
      "metadata": {
        "id": "UNC3HiJWt-5Y",
        "colab_type": "code",
        "colab": {}
      },
      "source": [
        "def get_battery_time(battery_obj, system_power):\n",
        "  return float(battery_obj.capacity/system_power)"
      ],
      "execution_count": null,
      "outputs": []
    },
    {
      "cell_type": "markdown",
      "metadata": {
        "id": "mfMzBK5kegS5",
        "colab_type": "text"
      },
      "source": [
        "Let's assume that we have the following components to build different systems:\n",
        "\n",
        "(1) **Processors**\n",
        "    a. Processor Big\n",
        "    b. Processor Medium\n",
        "    c. Processor Small\n",
        "\n",
        "(2) **Memory**\n",
        "    a. Memory Fast-Small\n",
        "    b. Memory Slow-Large\n",
        "    c. Memory Slowest-Large\n",
        "\n",
        "(3) **Network Support**\n",
        "    a. Network Very-Fast\n",
        "    b. Network Fast\n",
        "    c. Network Slow\n",
        "\n",
        "(4) **GPS sensor**\n",
        "    a. GPS Sensor Very-Accurate\n",
        "    b. GPS Sensor Moderately-Accurate\n",
        "\n",
        "(5) **Battery**\n",
        "    a. Large Battery\n",
        "    b. Medium Battery\n",
        "    c. Small Battery\n",
        "    \n",
        "  \n",
        "  **Parameters of components** : Size, Cost, Power, Performance. The class definition for generic component is provided next"
      ]
    },
    {
      "cell_type": "code",
      "metadata": {
        "id": "uWsonNcyk-G0",
        "colab_type": "code",
        "colab": {}
      },
      "source": [
        "processor_big = Component(type='processor_big', size=400, cost=500, power=100, perf=1000)\n",
        "processor_medium = Component(type='processor_medium', size=200, cost=200, power=30, perf=500)\n",
        "processor_small = Component(type='processor_small', size=50, cost=20, power=2, perf=50)\n",
        "processors = [processor_big, processor_medium, processor_small]\n",
        "\n",
        "memory_fast_small = Component(type='memory_fast_small', size=100, cost=100, power=100, perf=2000)\n",
        "memory_slow_large = Component(type='memory_slow_large', size=300, cost=100, power=30, perf=500)\n",
        "memory_slowest_large = Component(type='memory_slowest_large', size=300, cost=50, power=50, perf=300)\n",
        "memories = [memory_fast_small, memory_slow_large, memory_slowest_large]\n",
        "\n",
        "network_very_fast = Component(type='network_very_fast', size=20, cost=50, power=100, perf=1500)\n",
        "network_fast = Component(type='network_fast', size=15, cost=30, power=50, perf=500)\n",
        "network_slow = Component(type='network_slow', size=5, cost=10, power=20, perf=300)\n",
        "networks = [network_very_fast, network_fast, network_slow]\n",
        "\n",
        "sensor_very_accurate = Component(type='sensor_very_accurate', size=10, cost=80, power=10, perf=300)\n",
        "sensor_moderately_accurate = Component(type='sensor_moderately_accurate', size=5, cost=30, power=5, perf=100)\n",
        "sensors = [sensor_very_accurate, sensor_moderately_accurate]\n",
        "\n",
        "battery_large = Battery(type='battery_large', size=2000, capacity=1000, cost=300)\n",
        "battery_medium = Battery(type='battery_medium', size=1000, capacity=500, cost=150)\n",
        "battery_small = Battery(type='battery_small', size=200, capacity=100, cost=30)\n",
        "batteries = [battery_large, battery_medium, battery_small]"
      ],
      "execution_count": null,
      "outputs": []
    },
    {
      "cell_type": "markdown",
      "metadata": {
        "id": "yDzeSVz5i2JH",
        "colab_type": "text"
      },
      "source": [
        "Question--1: You have to identify one type of each component (excluding battery) which could be assembled to build a system with the lowest power and report the components selected and total power"
      ]
    },
    {
      "cell_type": "code",
      "metadata": {
        "id": "KmX-aw0XiyXJ",
        "colab_type": "code",
        "colab": {}
      },
      "source": [
        "def find_system_w_lowest_power():\n",
        "  curr_power = 1000000000\n",
        "  best_system = []\n",
        "  curr_component = processor_big\n",
        "    \n",
        "  for processor in processors:\n",
        "    if (processor.power < curr_power):\n",
        "      curr_power = processor.power\n",
        "      curr_component = processor\n",
        "  best_system.append(curr_component)\n",
        "  curr_power = 1000000000\n",
        "  for memory in memories:\n",
        "    if (memory.power < curr_power):\n",
        "      curr_power = memory.power\n",
        "      curr_component = memory\n",
        "  best_system.append(curr_component)\n",
        "  curr_power = 1000000000\n",
        "  for network in networks:\n",
        "    if (network.power < curr_power):\n",
        "      curr_power = network.power\n",
        "      curr_component = network\n",
        "  best_system.append(curr_component)\n",
        "  curr_power = 1000000000\n",
        "  for sensor in sensors:\n",
        "    if (sensor.power < curr_power):\n",
        "      curr_power = sensor.power\n",
        "      curr_component = sensor\n",
        "  best_system.append(curr_component)\n",
        "  total_power = get_system_metrics('power', best_system)\n",
        "  for component in best_system:\n",
        "    print(component.type)\n",
        "  print(total_power)\n"
      ],
      "execution_count": null,
      "outputs": []
    },
    {
      "cell_type": "code",
      "metadata": {
        "id": "zsBXwxkIwtcO",
        "colab_type": "code",
        "colab": {
          "base_uri": "https://localhost:8080/",
          "height": 102
        },
        "outputId": "19e0cd97-fc9a-4d30-84cc-67517b18432b"
      },
      "source": [
        "##Run the function here\n",
        "find_system_w_lowest_power()"
      ],
      "execution_count": null,
      "outputs": [
        {
          "output_type": "stream",
          "text": [
            "processor_small\n",
            "memory_slow_large\n",
            "network_slow\n",
            "sensor_moderately_accurate\n",
            "57\n"
          ],
          "name": "stdout"
        }
      ]
    },
    {
      "cell_type": "markdown",
      "metadata": {
        "id": "Yxgqo9WZu0dV",
        "colab_type": "text"
      },
      "source": [
        "Question-2: Find the system which is running an application which depends on accurate sensing and needs to be battery powered for as long as possible. \n",
        "\n",
        "Note that the system performance is bottlenecked by the sensor. Also we want to store as much of the data possible without sending it through the network. "
      ]
    },
    {
      "cell_type": "code",
      "metadata": {
        "id": "u61O1bYguz_K",
        "colab_type": "code",
        "colab": {}
      },
      "source": [
        "def find_accurate_sensing_system():\n",
        "  sensor = sensor_very_accurate\n",
        "  best_sensing_system = []\n",
        "  best_sensing_system.append(sensor)\n",
        "  component_power = 1000000\n",
        "  most_recent_component = sensor\n",
        "  for processor in processors:\n",
        "    if (processor.perf >= sensor.perf):\n",
        "      if (processor.power < component_power):\n",
        "        component_power = processor.power\n",
        "        most_recent_component = processor\n",
        "  best_sensing_system.append(most_recent_component)\n",
        "  component_power = 1000000\n",
        "  curr_memory_size = 0\n",
        "  for memory in memories:\n",
        "    if (memory.perf >= sensor.perf):\n",
        "      if memory.size>curr_memory_size:\n",
        "        component_power = memory.power\n",
        "        most_recent_component = memory\n",
        "        curr_memory_size = memory.size\n",
        "      elif (memory.power < component_power) and memory.size == curr_memory_size:\n",
        "        component_power = memory.power\n",
        "        most_recent_component = memory\n",
        "  best_sensing_system.append(most_recent_component)\n",
        "  component_power = 1000000\n",
        "  for network in networks:\n",
        "    if (network.perf >= sensor.perf):\n",
        "      if (network.power < component_power):\n",
        "        component_power = network.power\n",
        "        most_recent_component = network\n",
        "  best_sensing_system.append(most_recent_component)\n",
        "  \n",
        "  total_power = get_system_metrics('power', best_sensing_system)\n",
        "\n",
        "  for component in best_sensing_system:\n",
        "    print(component.type)\n",
        "\n",
        "  print(\"Total system power is: \", total_power)\n",
        "  print(\"Large Battery life (in hours): \", get_battery_time(battery_large, total_power))\n",
        "  print(\"Medium Battery life (in hours): \", get_battery_time(battery_medium, total_power))\n",
        "  print(\"Small Battery life (in hours): \", get_battery_time(battery_small, total_power))\n",
        "\n",
        "        \n",
        "\n",
        "\n",
        "  "
      ],
      "execution_count": 55,
      "outputs": []
    },
    {
      "cell_type": "code",
      "metadata": {
        "id": "I1W74gLbw9tP",
        "colab_type": "code",
        "colab": {
          "base_uri": "https://localhost:8080/",
          "height": 153
        },
        "outputId": "8db531f6-5a75-4536-e039-58a5102603c6"
      },
      "source": [
        "##Run the function here\n",
        "find_accurate_sensing_system()"
      ],
      "execution_count": 56,
      "outputs": [
        {
          "output_type": "stream",
          "text": [
            "sensor_very_accurate\n",
            "processor_medium\n",
            "memory_slow_large\n",
            "network_slow\n",
            "Total system power is:  90\n",
            "Large Battery life (in hours):  11.11111111111111\n",
            "Medium Battery life (in hours):  5.555555555555555\n",
            "Small Battery life (in hours):  1.1111111111111112\n"
          ],
          "name": "stdout"
        }
      ]
    },
    {
      "cell_type": "markdown",
      "metadata": {
        "id": "R8mdjw8Xv_OG",
        "colab_type": "text"
      },
      "source": [
        "Question-3:Find the system which doesn't require any sensor and runs on plugged power but should be the largest in the composite metric of perf/(power*cost)"
      ]
    },
    {
      "cell_type": "code",
      "metadata": {
        "id": "DfckMmnswb8S",
        "colab_type": "code",
        "colab": {}
      },
      "source": [
        "def find_most_efficient_system():\n",
        "  curr_composite_metric = 0\n",
        "  best_component_set = []\n",
        "  for processor in processors:\n",
        "    for memory in memories:\n",
        "      for network in networks:\n",
        "        components = [processor, memory, network]\n",
        "        tot_power = get_system_metrics('power', components)\n",
        "        tot_perf = get_system_metrics('perf', components)\n",
        "        tot_cost = get_system_metrics('cost', components)\n",
        "        composite_metric = tot_perf/(tot_power * tot_cost)\n",
        "        if composite_metric > curr_composite_metric:\n",
        "          curr_composite_metric = composite_metric\n",
        "          best_component_set = []\n",
        "          for component in components:\n",
        "            best_component_set.append(component.type)\n",
        "\n",
        "  print(best_component_set, curr_composite_metric)\n",
        "  print(get_system_metrics('power', components))"
      ],
      "execution_count": null,
      "outputs": []
    },
    {
      "cell_type": "code",
      "metadata": {
        "id": "R3_gBnnBxFk5",
        "colab_type": "code",
        "colab": {
          "base_uri": "https://localhost:8080/",
          "height": 51
        },
        "outputId": "05726284-37ee-4413-87e6-f9aff3525ba4"
      },
      "source": [
        "##Run the function here\n",
        "find_most_efficient_system()"
      ],
      "execution_count": null,
      "outputs": [
        {
          "output_type": "stream",
          "text": [
            "['processor_medium', 'memory_slow_large', 'network_fast'] 0.013774104683195593\n",
            "72\n"
          ],
          "name": "stdout"
        }
      ]
    }
  ]
}